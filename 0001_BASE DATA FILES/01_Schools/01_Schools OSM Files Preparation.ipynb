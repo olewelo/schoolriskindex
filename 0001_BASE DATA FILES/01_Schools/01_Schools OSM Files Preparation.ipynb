{
 "cells": [
  {
   "cell_type": "code",
   "execution_count": 3,
   "id": "9f6aebcb",
   "metadata": {},
   "outputs": [],
   "source": [
    "#pip install osmium"
   ]
  },
  {
   "cell_type": "code",
   "execution_count": 3,
   "id": "256879eb",
   "metadata": {},
   "outputs": [],
   "source": [
    "import osmium\n",
    "import subprocess"
   ]
  },
  {
   "cell_type": "markdown",
   "id": "1932f6f3",
   "metadata": {},
   "source": [
    "# Africa"
   ]
  },
  {
   "cell_type": "code",
   "execution_count": 15,
   "id": "52f8d870",
   "metadata": {},
   "outputs": [],
   "source": [
    "## Reading File\n",
    "\n",
    "fp = osmium.FileProcessor('Africa/africa-latest.osm.pbf').with_filter(osmium.filter.KeyFilter('amenity'))"
   ]
  },
  {
   "cell_type": "code",
   "execution_count": 16,
   "id": "8b3c682a",
   "metadata": {
    "scrolled": true
   },
   "outputs": [
    {
     "data": {
      "text/plain": [
       "'Nodes: 108024   Ways: 63520  Relations: 783'"
      ]
     },
     "execution_count": 16,
     "metadata": {},
     "output_type": "execute_result"
    }
   ],
   "source": [
    "## Counting objects (nodes, ways and relations) in file with the tag \"amenity = school\"\n",
    "\n",
    "from collections import Counter\n",
    "\n",
    "cnt = Counter()\n",
    "\n",
    "for obj in fp:\n",
    "    if obj.tags['amenity'] == 'school':\n",
    "        cnt.update([obj.type_str()])\n",
    "\n",
    "f\"Nodes: {cnt['n']}   Ways: {cnt['w']}  Relations: {cnt['r']}\""
   ]
  },
  {
   "cell_type": "code",
   "execution_count": 18,
   "id": "0627946e",
   "metadata": {},
   "outputs": [],
   "source": [
    "## Creating a new .osm.pbf file of all objects with the tag \"amenity = school\"\n",
    "\n",
    "with osmium.BackReferenceWriter(\"Africa/schools_full.osm.pbf\", ref_src='Africa/africa-latest.osm.pbf', overwrite=True) as writer:\n",
    "    for obj in fp:\n",
    "         if obj.tags['amenity'] == 'school':\n",
    "             writer.add(obj)"
   ]
  },
  {
   "cell_type": "markdown",
   "id": "c93d2516",
   "metadata": {},
   "source": [
    "### Converting School .osm.pbf to GeoJSON"
   ]
  },
  {
   "cell_type": "code",
   "execution_count": null,
   "id": "ac251867",
   "metadata": {},
   "outputs": [],
   "source": [
    "## Defining input file path (the schools .osm.pbf file we just created)\n",
    "input_pbf = \"Africa/schools_full.osm.pbf\""
   ]
  },
  {
   "cell_type": "code",
   "execution_count": 40,
   "id": "3f312f2d",
   "metadata": {
    "scrolled": true
   },
   "outputs": [
    {
     "name": "stdout",
     "output_type": "stream",
     "text": [
      "INFO: Open of `Africa/schools_full.osm.pbf'\n",
      "      using driver `OSM' successful.\n",
      "1: points (Point)\n",
      "2: lines (Line String)\n",
      "3: multilinestrings (Multi Line String)\n",
      "4: multipolygons (Multi Polygon)\n",
      "5: other_relations (Geometry Collection)\n"
     ]
    },
    {
     "data": {
      "text/plain": [
       "CompletedProcess(args=['ogrinfo', 'Africa/schools_full.osm.pbf'], returncode=0)"
      ]
     },
     "execution_count": 40,
     "metadata": {},
     "output_type": "execute_result"
    }
   ],
   "source": [
    "## Checking object types within the .osm.pbf\n",
    "subprocess.run([\"ogrinfo\", input_pbf], check=True)"
   ]
  },
  {
   "cell_type": "code",
   "execution_count": 23,
   "id": "0267c8a8",
   "metadata": {},
   "outputs": [
    {
     "name": "stdout",
     "output_type": "stream",
     "text": [
      "GeoJSON with nodes saved to Africa/schools_full_nodes.geojson\n"
     ]
    }
   ],
   "source": [
    "## Converting all school nodes to a GeoJSON\n",
    "\n",
    "output_geojson = \"Africa/schools_full_nodes.geojson\"\n",
    "\n",
    "subprocess.run([\"osmium\", \"export\", \"--geometry-types=point\", \"-o\", output_geojson, input_pbf], check=True)\n",
    "\n",
    "print(f\"GeoJSON with nodes saved to {output_geojson}\")"
   ]
  },
  {
   "cell_type": "code",
   "execution_count": 43,
   "id": "feae47a6",
   "metadata": {
    "scrolled": true
   },
   "outputs": [
    {
     "name": "stdout",
     "output_type": "stream",
     "text": [
      "0...10...20...30...40...50...60...70...80...90...100 - done.\n"
     ]
    },
    {
     "data": {
      "text/plain": [
       "CompletedProcess(args=['ogr2ogr', '-f', 'GeoJSON', 'Africa/schools_full_polygons.geojson', 'Africa/schools_full.osm.pbf', 'multipolygons'], returncode=0)"
      ]
     },
     "execution_count": 43,
     "metadata": {},
     "output_type": "execute_result"
    }
   ],
   "source": [
    "## Converting all school polygons to a GeoJSON (in rare cases schools are recorded as polygons, not points)\n",
    "\n",
    "output_geojson = \"Africa/schools_full_polygons.geojson\"\n",
    "\n",
    "subprocess.run([\n",
    "    \"ogr2ogr\",\n",
    "    \"-f\", \"GeoJSON\",\n",
    "    output_geojson,\n",
    "    input_pbf,\n",
    "    \"multipolygons\", \n",
    "], check=True)"
   ]
  },
  {
   "cell_type": "markdown",
   "id": "3fb82c9c",
   "metadata": {},
   "source": [
    "# Asia"
   ]
  },
  {
   "cell_type": "code",
   "execution_count": 2,
   "id": "9e9c1f0b",
   "metadata": {},
   "outputs": [],
   "source": [
    "## Reading File\n",
    "\n",
    "fp = osmium.FileProcessor('Asia/asia-latest.osm.pbf').with_filter(osmium.filter.KeyFilter('amenity'))"
   ]
  },
  {
   "cell_type": "code",
   "execution_count": 3,
   "id": "94401e50",
   "metadata": {
    "scrolled": true
   },
   "outputs": [
    {
     "data": {
      "text/plain": [
       "'Nodes: 126415   Ways: 292649  Relations: 11318'"
      ]
     },
     "execution_count": 3,
     "metadata": {},
     "output_type": "execute_result"
    }
   ],
   "source": [
    "## Counting objects (nodes, ways and relations) in file with the tag \"amenity = school\"\n",
    "\n",
    "from collections import Counter\n",
    "\n",
    "cnt = Counter()\n",
    "\n",
    "for obj in fp:\n",
    "    if obj.tags['amenity'] == 'school':\n",
    "        cnt.update([obj.type_str()])\n",
    "\n",
    "f\"Nodes: {cnt['n']}   Ways: {cnt['w']}  Relations: {cnt['r']}\""
   ]
  },
  {
   "cell_type": "code",
   "execution_count": 4,
   "id": "2f3f8969",
   "metadata": {},
   "outputs": [],
   "source": [
    "## Creating a new .osm.pbf file of all objects with the tag \"amenity = school\"\n",
    "\n",
    "with osmium.BackReferenceWriter(\"Asia/schools_full.osm.pbf\", ref_src='Asia/asia-latest.osm.pbf', overwrite=True) as writer:\n",
    "    for obj in fp:\n",
    "         if obj.tags['amenity'] == 'school':\n",
    "             writer.add(obj)"
   ]
  },
  {
   "cell_type": "markdown",
   "id": "c167b513",
   "metadata": {},
   "source": [
    "### Converting .osm.pbf to GeoJSON"
   ]
  },
  {
   "cell_type": "code",
   "execution_count": null,
   "id": "1cf87d2a",
   "metadata": {},
   "outputs": [],
   "source": [
    "## Defining input file path (the schools .osm.pbf file we just created)\n",
    "\n",
    "input_pbf = \"Asia/schools_full.osm.pbf\""
   ]
  },
  {
   "cell_type": "code",
   "execution_count": null,
   "id": "d3323235",
   "metadata": {
    "scrolled": false
   },
   "outputs": [
    {
     "name": "stdout",
     "output_type": "stream",
     "text": [
      "INFO: Open of `Asia/schools_full.osm.pbf'\n",
      "      using driver `OSM' successful.\n",
      "1: points (Point)\n",
      "2: lines (Line String)\n",
      "3: multilinestrings (Multi Line String)\n",
      "4: multipolygons (Multi Polygon)\n",
      "5: other_relations (Geometry Collection)\n"
     ]
    },
    {
     "data": {
      "text/plain": [
       "CompletedProcess(args=['ogrinfo', 'Asia/schools_full.osm.pbf'], returncode=0)"
      ]
     },
     "execution_count": 6,
     "metadata": {},
     "output_type": "execute_result"
    }
   ],
   "source": [
    "## Checking object types within the .osm.pbf\n",
    "\n",
    "subprocess.run([\"ogrinfo\", input_pbf], check=True)"
   ]
  },
  {
   "cell_type": "code",
   "execution_count": 7,
   "id": "9c44b343",
   "metadata": {},
   "outputs": [
    {
     "name": "stdout",
     "output_type": "stream",
     "text": [
      "GeoJSON with nodes saved to Asia/schools_full_nodes.geojson\n"
     ]
    }
   ],
   "source": [
    "## Converting all school nodes to a GeoJSON\n",
    "\n",
    "output_geojson = \"Asia/schools_full_nodes.geojson\"\n",
    "\n",
    "subprocess.run([\"osmium\", \"export\", \"--geometry-types=point\", \"-o\", output_geojson, input_pbf], check=True)\n",
    "\n",
    "print(f\"GeoJSON with nodes saved to {output_geojson}\")"
   ]
  },
  {
   "cell_type": "code",
   "execution_count": 8,
   "id": "451da66c",
   "metadata": {
    "scrolled": true
   },
   "outputs": [
    {
     "name": "stdout",
     "output_type": "stream",
     "text": [
      "0...10...20...30...40...50...60...70...80...90...100 - done.\n"
     ]
    },
    {
     "data": {
      "text/plain": [
       "CompletedProcess(args=['ogr2ogr', '-f', 'GeoJSON', 'Asia/schools_full_polygons.geojson', 'Asia/schools_full.osm.pbf', 'multipolygons'], returncode=0)"
      ]
     },
     "execution_count": 8,
     "metadata": {},
     "output_type": "execute_result"
    }
   ],
   "source": [
    "## Converting all school polygons to a GeoJSON (in rare cases schools are recorded as polygons, not points)\n",
    "\n",
    "output_geojson = \"Asia/schools_full_polygons.geojson\"\n",
    "\n",
    "subprocess.run([\n",
    "    \"ogr2ogr\",\n",
    "    \"-f\", \"GeoJSON\",\n",
    "    output_geojson,\n",
    "    input_pbf,\n",
    "    \"multipolygons\", \n",
    "], check=True)"
   ]
  },
  {
   "cell_type": "markdown",
   "id": "ce41f0eb",
   "metadata": {},
   "source": [
    "# Europe"
   ]
  },
  {
   "cell_type": "code",
   "execution_count": 3,
   "id": "b7406550",
   "metadata": {
    "scrolled": true
   },
   "outputs": [],
   "source": [
    "## Reading File\n",
    "\n",
    "fp = osmium.FileProcessor('Europe/europe-latest.osm.pbf').with_filter(osmium.filter.KeyFilter('amenity'))"
   ]
  },
  {
   "cell_type": "code",
   "execution_count": 4,
   "id": "549c420b",
   "metadata": {
    "scrolled": true
   },
   "outputs": [
    {
     "data": {
      "text/plain": [
       "'Nodes: 66866   Ways: 253862  Relations: 10141'"
      ]
     },
     "execution_count": 4,
     "metadata": {},
     "output_type": "execute_result"
    }
   ],
   "source": [
    "## Counting objects (nodes, ways and relations) in file with the tag \"amenity = school\"\n",
    "\n",
    "from collections import Counter\n",
    "\n",
    "cnt = Counter()\n",
    "\n",
    "for obj in fp:\n",
    "    if obj.tags['amenity'] == 'school':\n",
    "        cnt.update([obj.type_str()])\n",
    "\n",
    "f\"Nodes: {cnt['n']}   Ways: {cnt['w']}  Relations: {cnt['r']}\""
   ]
  },
  {
   "cell_type": "code",
   "execution_count": 5,
   "id": "33b67f08",
   "metadata": {},
   "outputs": [],
   "source": [
    "## Creating a new .osm.pbf file of all objects with the tag \"amenity = school\"\n",
    "\n",
    "with osmium.BackReferenceWriter(\"Europe/schools_full.osm.pbf\", ref_src='Europe/europe-latest.osm.pbf', overwrite=True) as writer:\n",
    "    for obj in fp:\n",
    "         if obj.tags['amenity'] == 'school':\n",
    "             writer.add(obj)"
   ]
  },
  {
   "cell_type": "markdown",
   "id": "2c883f06",
   "metadata": {},
   "source": [
    "### Converting .osm.pbf to GeoJSON"
   ]
  },
  {
   "cell_type": "code",
   "execution_count": null,
   "id": "679df2a9",
   "metadata": {},
   "outputs": [],
   "source": [
    "## Defining input file path (the schools .osm.pbf file we just created)\n",
    "\n",
    "input_pbf = \"Europe/schools_full.osm.pbf\""
   ]
  },
  {
   "cell_type": "code",
   "execution_count": null,
   "id": "2b2809fa",
   "metadata": {
    "scrolled": false
   },
   "outputs": [
    {
     "name": "stdout",
     "output_type": "stream",
     "text": [
      "INFO: Open of `Europe/schools_full.osm.pbf'\n",
      "      using driver `OSM' successful.\n",
      "1: points (Point)\n",
      "2: lines (Line String)\n",
      "3: multilinestrings (Multi Line String)\n",
      "4: multipolygons (Multi Polygon)\n",
      "5: other_relations (Geometry Collection)\n"
     ]
    },
    {
     "data": {
      "text/plain": [
       "CompletedProcess(args=['ogrinfo', 'Europe/schools_full.osm.pbf'], returncode=0)"
      ]
     },
     "execution_count": 3,
     "metadata": {},
     "output_type": "execute_result"
    }
   ],
   "source": [
    "## Checking object types within the .osm.pbf\n",
    "\n",
    "subprocess.run([\"ogrinfo\", input_pbf], check=True)"
   ]
  },
  {
   "cell_type": "code",
   "execution_count": 5,
   "id": "028e8a89",
   "metadata": {},
   "outputs": [
    {
     "name": "stdout",
     "output_type": "stream",
     "text": [
      "GeoJSON with nodes saved to Europe/schools_full_nodes.geojson\n"
     ]
    }
   ],
   "source": [
    "## Converting all school nodes to a GeoJSON\n",
    "\n",
    "output_geojson = \"Europe/schools_full_nodes.geojson\"\n",
    "\n",
    "subprocess.run([\"osmium\", \"export\", \"--geometry-types=point\", \"-o\", output_geojson, input_pbf], check=True)\n",
    "\n",
    "print(f\"GeoJSON with nodes saved to {output_geojson}\")"
   ]
  },
  {
   "cell_type": "code",
   "execution_count": 6,
   "id": "dcf99839",
   "metadata": {
    "scrolled": true
   },
   "outputs": [
    {
     "name": "stdout",
     "output_type": "stream",
     "text": [
      "0...10...20...30...40...50...60...70...80...90"
     ]
    },
    {
     "name": "stderr",
     "output_type": "stream",
     "text": [
      "Warning 1: Non closed ring detected. To avoid accepting it, set the OGR_GEOMETRY_ACCEPT_UNCLOSED_RING configuration option to NO\n"
     ]
    },
    {
     "name": "stdout",
     "output_type": "stream",
     "text": [
      "...100 - done.\n"
     ]
    },
    {
     "data": {
      "text/plain": [
       "CompletedProcess(args=['ogr2ogr', '-f', 'GeoJSON', 'Europe/schools_full_polygons.geojson', 'Europe/schools_full.osm.pbf', 'multipolygons'], returncode=0)"
      ]
     },
     "execution_count": 6,
     "metadata": {},
     "output_type": "execute_result"
    }
   ],
   "source": [
    "## Converting all school polygons to a GeoJSON (in rare cases schools are recorded as polygons, not points)\n",
    "\n",
    "output_geojson = \"Europe/schools_full_polygons.geojson\"\n",
    "\n",
    "subprocess.run([\n",
    "    \"ogr2ogr\",\n",
    "    \"-f\", \"GeoJSON\",\n",
    "    output_geojson,\n",
    "    input_pbf,\n",
    "    \"multipolygons\", \n",
    "], check=True)"
   ]
  },
  {
   "cell_type": "markdown",
   "id": "4ec2728e",
   "metadata": {},
   "source": [
    "# Australia & Oceania"
   ]
  },
  {
   "cell_type": "code",
   "execution_count": 7,
   "id": "e1ac1d0d",
   "metadata": {
    "scrolled": true
   },
   "outputs": [],
   "source": [
    "## Reading File\n",
    "\n",
    "fp = osmium.FileProcessor('Australia-Oceania/australia-oceania-latest.osm.pbf').with_filter(osmium.filter.KeyFilter('amenity'))"
   ]
  },
  {
   "cell_type": "code",
   "execution_count": 8,
   "id": "96282bbb",
   "metadata": {
    "scrolled": true
   },
   "outputs": [
    {
     "data": {
      "text/plain": [
       "'Nodes: 1469   Ways: 16478  Relations: 517'"
      ]
     },
     "execution_count": 8,
     "metadata": {},
     "output_type": "execute_result"
    }
   ],
   "source": [
    "## Counting objects (nodes, ways and relations) in file with the tag \"amenity = school\"\n",
    "\n",
    "from collections import Counter\n",
    "\n",
    "cnt = Counter()\n",
    "\n",
    "for obj in fp:\n",
    "    if obj.tags['amenity'] == 'school':\n",
    "        cnt.update([obj.type_str()])\n",
    "\n",
    "f\"Nodes: {cnt['n']}   Ways: {cnt['w']}  Relations: {cnt['r']}\""
   ]
  },
  {
   "cell_type": "code",
   "execution_count": 9,
   "id": "8dccf4b1",
   "metadata": {},
   "outputs": [],
   "source": [
    "## Creating a new .osm.pbf file of all objects with the tag \"amenity = school\"\n",
    "\n",
    "with osmium.BackReferenceWriter(\"Australia-Oceania/schools_full.osm.pbf\", ref_src='Australia-Oceania/australia-oceania-latest.osm.pbf', overwrite=True) as writer:\n",
    "    for obj in fp:\n",
    "         if obj.tags['amenity'] == 'school':\n",
    "             writer.add(obj)"
   ]
  },
  {
   "cell_type": "markdown",
   "id": "2a4b431e",
   "metadata": {},
   "source": [
    "### Converting .osm.pbf to GeoJSON"
   ]
  },
  {
   "cell_type": "code",
   "execution_count": null,
   "id": "79631610",
   "metadata": {},
   "outputs": [],
   "source": [
    "## Defining input file path (the schools .osm.pbf file we just created)\n",
    "\n",
    "input_pbf = \"Australia-Oceania/schools_full.osm.pbf\""
   ]
  },
  {
   "cell_type": "code",
   "execution_count": null,
   "id": "89702722",
   "metadata": {
    "scrolled": false
   },
   "outputs": [
    {
     "name": "stdout",
     "output_type": "stream",
     "text": [
      "INFO: Open of `Australia-Oceania/schools_full.osm.pbf'\n",
      "      using driver `OSM' successful.\n",
      "1: points (Point)\n",
      "2: lines (Line String)\n",
      "3: multilinestrings (Multi Line String)\n",
      "4: multipolygons (Multi Polygon)\n",
      "5: other_relations (Geometry Collection)\n"
     ]
    },
    {
     "data": {
      "text/plain": [
       "CompletedProcess(args=['ogrinfo', 'Australia-Oceania/schools_full.osm.pbf'], returncode=0)"
      ]
     },
     "execution_count": 11,
     "metadata": {},
     "output_type": "execute_result"
    }
   ],
   "source": [
    "## Checking object types within the .osm.pbf\n",
    "\n",
    "subprocess.run([\"ogrinfo\", input_pbf], check=True)"
   ]
  },
  {
   "cell_type": "code",
   "execution_count": 12,
   "id": "3f068be6",
   "metadata": {},
   "outputs": [
    {
     "name": "stdout",
     "output_type": "stream",
     "text": [
      "GeoJSON with nodes saved to Australia-Oceania/schools_full_nodes.geojson\n"
     ]
    }
   ],
   "source": [
    "## Converting all school nodes to a GeoJSON\n",
    "\n",
    "output_geojson = \"Australia-Oceania/schools_full_nodes.geojson\"\n",
    "\n",
    "subprocess.run([\"osmium\", \"export\", \"--geometry-types=point\", \"-o\", output_geojson, input_pbf], check=True)\n",
    "\n",
    "print(f\"GeoJSON with nodes saved to {output_geojson}\")"
   ]
  },
  {
   "cell_type": "code",
   "execution_count": 13,
   "id": "b8ecff0b",
   "metadata": {
    "scrolled": true
   },
   "outputs": [
    {
     "name": "stdout",
     "output_type": "stream",
     "text": [
      "0...10...20...30...40...50...60...70...80...90...100 - done.\n"
     ]
    },
    {
     "data": {
      "text/plain": [
       "CompletedProcess(args=['ogr2ogr', '-f', 'GeoJSON', 'Australia-Oceania/schools_full_polygons.geojson', 'Australia-Oceania/schools_full.osm.pbf', 'multipolygons'], returncode=0)"
      ]
     },
     "execution_count": 13,
     "metadata": {},
     "output_type": "execute_result"
    }
   ],
   "source": [
    "## Converting all school polygons to a GeoJSON (in rare cases schools are recorded as polygons, not points)\n",
    "\n",
    "output_geojson = \"Australia-Oceania/schools_full_polygons.geojson\"\n",
    "\n",
    "subprocess.run([\n",
    "    \"ogr2ogr\",\n",
    "    \"-f\", \"GeoJSON\",\n",
    "    output_geojson,\n",
    "    input_pbf,\n",
    "    \"multipolygons\", \n",
    "], check=True)"
   ]
  },
  {
   "cell_type": "markdown",
   "id": "424ce6e0",
   "metadata": {},
   "source": [
    "# South America"
   ]
  },
  {
   "cell_type": "code",
   "execution_count": 14,
   "id": "9859d3ea",
   "metadata": {
    "scrolled": true
   },
   "outputs": [],
   "source": [
    "## Reading File\n",
    "\n",
    "fp = osmium.FileProcessor('South America/south-america-latest.osm.pbf').with_filter(osmium.filter.KeyFilter('amenity'))"
   ]
  },
  {
   "cell_type": "code",
   "execution_count": 15,
   "id": "fc61a7a0",
   "metadata": {
    "scrolled": true
   },
   "outputs": [
    {
     "data": {
      "text/plain": [
       "'Nodes: 134497   Ways: 71880  Relations: 1382'"
      ]
     },
     "execution_count": 15,
     "metadata": {},
     "output_type": "execute_result"
    }
   ],
   "source": [
    "## Counting objects (nodes, ways and relations) in file with the tag \"amenity = school\"\n",
    "\n",
    "from collections import Counter\n",
    "\n",
    "cnt = Counter()\n",
    "\n",
    "for obj in fp:\n",
    "    if obj.tags['amenity'] == 'school':\n",
    "        cnt.update([obj.type_str()])\n",
    "\n",
    "f\"Nodes: {cnt['n']}   Ways: {cnt['w']}  Relations: {cnt['r']}\""
   ]
  },
  {
   "cell_type": "code",
   "execution_count": 16,
   "id": "6b04abd0",
   "metadata": {},
   "outputs": [],
   "source": [
    "## Creating a new .osm.pbf file of all objects with the tag \"amenity = school\"\n",
    "\n",
    "with osmium.BackReferenceWriter(\"South America/schools_full.osm.pbf\", ref_src='South America/south-america-latest.osm.pbf', overwrite=True) as writer:\n",
    "    for obj in fp:\n",
    "         if obj.tags['amenity'] == 'school':\n",
    "             writer.add(obj)"
   ]
  },
  {
   "cell_type": "markdown",
   "id": "0eb166a8",
   "metadata": {},
   "source": [
    "### Converting .osm.pbf to GeoJSON"
   ]
  },
  {
   "cell_type": "code",
   "execution_count": null,
   "id": "c98e63b4",
   "metadata": {},
   "outputs": [],
   "source": [
    "## Defining input file path (the schools .osm.pbf file we just created)\n",
    "\n",
    "input_pbf = \"South America/schools_full.osm.pbf\""
   ]
  },
  {
   "cell_type": "code",
   "execution_count": null,
   "id": "67657255",
   "metadata": {
    "scrolled": false
   },
   "outputs": [
    {
     "name": "stdout",
     "output_type": "stream",
     "text": [
      "INFO: Open of `South America/schools_full.osm.pbf'\n",
      "      using driver `OSM' successful.\n",
      "1: points (Point)\n",
      "2: lines (Line String)\n",
      "3: multilinestrings (Multi Line String)\n",
      "4: multipolygons (Multi Polygon)\n",
      "5: other_relations (Geometry Collection)\n"
     ]
    },
    {
     "data": {
      "text/plain": [
       "CompletedProcess(args=['ogrinfo', 'South America/schools_full.osm.pbf'], returncode=0)"
      ]
     },
     "execution_count": 18,
     "metadata": {},
     "output_type": "execute_result"
    }
   ],
   "source": [
    "## Checking object types within the .osm.pbf\n",
    "\n",
    "subprocess.run([\"ogrinfo\", input_pbf], check=True)"
   ]
  },
  {
   "cell_type": "code",
   "execution_count": 19,
   "id": "26c20707",
   "metadata": {},
   "outputs": [
    {
     "name": "stdout",
     "output_type": "stream",
     "text": [
      "GeoJSON with nodes saved to South America/schools_full_nodes.geojson\n"
     ]
    }
   ],
   "source": [
    "## Converting all school nodes to a GeoJSON\n",
    "\n",
    "output_geojson = \"South America/schools_full_nodes.geojson\"\n",
    "\n",
    "subprocess.run([\"osmium\", \"export\", \"--geometry-types=point\", \"-o\", output_geojson, input_pbf], check=True)\n",
    "\n",
    "print(f\"GeoJSON with nodes saved to {output_geojson}\")"
   ]
  },
  {
   "cell_type": "code",
   "execution_count": 20,
   "id": "457e0597",
   "metadata": {
    "scrolled": true
   },
   "outputs": [
    {
     "name": "stdout",
     "output_type": "stream",
     "text": [
      "0...10...20...30...40...50...60...70...80...90...100 - done.\n"
     ]
    },
    {
     "data": {
      "text/plain": [
       "CompletedProcess(args=['ogr2ogr', '-f', 'GeoJSON', 'South America/schools_full_polygons.geojson', 'South America/schools_full.osm.pbf', 'multipolygons'], returncode=0)"
      ]
     },
     "execution_count": 20,
     "metadata": {},
     "output_type": "execute_result"
    }
   ],
   "source": [
    "## Converting all school polygons to a GeoJSON (in rare cases schools are recorded as polygons, not points)\n",
    "\n",
    "output_geojson = \"South America/schools_full_polygons.geojson\"\n",
    "\n",
    "subprocess.run([\n",
    "    \"ogr2ogr\",\n",
    "    \"-f\", \"GeoJSON\",\n",
    "    output_geojson,\n",
    "    input_pbf,\n",
    "    \"multipolygons\", \n",
    "], check=True)"
   ]
  },
  {
   "cell_type": "markdown",
   "id": "17905818",
   "metadata": {},
   "source": [
    "# North America"
   ]
  },
  {
   "cell_type": "code",
   "execution_count": 6,
   "id": "56745c36",
   "metadata": {
    "scrolled": true
   },
   "outputs": [],
   "source": [
    "## Reading File\n",
    "\n",
    "fp = osmium.FileProcessor('North America/north-america-latest.osm.pbf').with_filter(osmium.filter.KeyFilter('amenity'))"
   ]
  },
  {
   "cell_type": "code",
   "execution_count": 7,
   "id": "33fec360",
   "metadata": {
    "scrolled": true
   },
   "outputs": [
    {
     "data": {
      "text/plain": [
       "'Nodes: 87898   Ways: 106295  Relations: 3233'"
      ]
     },
     "execution_count": 7,
     "metadata": {},
     "output_type": "execute_result"
    }
   ],
   "source": [
    "## Counting objects (nodes, ways and relations) in file with the tag \"amenity = school\"\n",
    "\n",
    "from collections import Counter\n",
    "\n",
    "cnt = Counter()\n",
    "\n",
    "for obj in fp:\n",
    "    if obj.tags['amenity'] == 'school':\n",
    "        cnt.update([obj.type_str()])\n",
    "\n",
    "f\"Nodes: {cnt['n']}   Ways: {cnt['w']}  Relations: {cnt['r']}\""
   ]
  },
  {
   "cell_type": "code",
   "execution_count": 8,
   "id": "e3d51395",
   "metadata": {},
   "outputs": [],
   "source": [
    "## Creating a new .osm.pbf file of all objects with the tag \"amenity = school\"\n",
    "\n",
    "with osmium.BackReferenceWriter(\"North America/schools_full.osm.pbf\", ref_src='North America/north-america-latest.osm.pbf', overwrite=True) as writer:\n",
    "    for obj in fp:\n",
    "         if obj.tags['amenity'] == 'school':\n",
    "             writer.add(obj)"
   ]
  },
  {
   "cell_type": "markdown",
   "id": "e58d88d8",
   "metadata": {},
   "source": [
    "### Converting .osm.pbf to GeoJSON"
   ]
  },
  {
   "cell_type": "code",
   "execution_count": null,
   "id": "0227c973",
   "metadata": {},
   "outputs": [],
   "source": [
    "## Defining input file path (the schools .osm.pbf file we just created)\n",
    "\n",
    "input_pbf = \"North America/schools_full.osm.pbf\""
   ]
  },
  {
   "cell_type": "code",
   "execution_count": null,
   "id": "46aa9cc2",
   "metadata": {
    "scrolled": true
   },
   "outputs": [
    {
     "name": "stdout",
     "output_type": "stream",
     "text": [
      "INFO: Open of `North America/schools_full.osm.pbf'\n",
      "      using driver `OSM' successful.\n",
      "1: points (Point)\n",
      "2: lines (Line String)\n",
      "3: multilinestrings (Multi Line String)\n",
      "4: multipolygons (Multi Polygon)\n",
      "5: other_relations (Geometry Collection)\n"
     ]
    },
    {
     "data": {
      "text/plain": [
       "CompletedProcess(args=['ogrinfo', 'North America/schools_full.osm.pbf'], returncode=0)"
      ]
     },
     "execution_count": 10,
     "metadata": {},
     "output_type": "execute_result"
    }
   ],
   "source": [
    "## Checking object types within the .osm.pbf\n",
    "\n",
    "subprocess.run([\"ogrinfo\", input_pbf], check=True)"
   ]
  },
  {
   "cell_type": "code",
   "execution_count": 11,
   "id": "261e8f37",
   "metadata": {},
   "outputs": [
    {
     "name": "stdout",
     "output_type": "stream",
     "text": [
      "GeoJSON with nodes saved to North America/schools_full_nodes.geojson\n"
     ]
    }
   ],
   "source": [
    "## Converting all school nodes to a GeoJSON\n",
    "\n",
    "output_geojson = \"North America/schools_full_nodes.geojson\"\n",
    "\n",
    "subprocess.run([\"osmium\", \"export\", \"--geometry-types=point\", \"-o\", output_geojson, input_pbf], check=True)\n",
    "\n",
    "print(f\"GeoJSON with nodes saved to {output_geojson}\")"
   ]
  },
  {
   "cell_type": "code",
   "execution_count": 12,
   "id": "e37f7adb",
   "metadata": {
    "scrolled": true
   },
   "outputs": [
    {
     "name": "stdout",
     "output_type": "stream",
     "text": [
      "0...10...20...30...40...50...60...70...80...90...100 - done.\n"
     ]
    },
    {
     "data": {
      "text/plain": [
       "CompletedProcess(args=['ogr2ogr', '-f', 'GeoJSON', 'North America/schools_full_polygons.geojson', 'North America/schools_full.osm.pbf', 'multipolygons'], returncode=0)"
      ]
     },
     "execution_count": 12,
     "metadata": {},
     "output_type": "execute_result"
    }
   ],
   "source": [
    "## Converting all school polygons to a GeoJSON (in rare cases schools are recorded as polygons, not points)\n",
    "\n",
    "output_geojson = \"North America/schools_full_polygons.geojson\"\n",
    "\n",
    "subprocess.run([\n",
    "    \"ogr2ogr\",\n",
    "    \"-f\", \"GeoJSON\",\n",
    "    output_geojson,\n",
    "    input_pbf,\n",
    "    \"multipolygons\", \n",
    "], check=True)"
   ]
  },
  {
   "cell_type": "markdown",
   "id": "6e0a29be",
   "metadata": {},
   "source": [
    "# Central America"
   ]
  },
  {
   "cell_type": "code",
   "execution_count": 15,
   "id": "baff8956",
   "metadata": {
    "scrolled": true
   },
   "outputs": [],
   "source": [
    "## Reading File\n",
    "\n",
    "fp = osmium.FileProcessor('Central America/central-america-latest.osm.pbf').with_filter(osmium.filter.KeyFilter('amenity'))"
   ]
  },
  {
   "cell_type": "code",
   "execution_count": 16,
   "id": "c348cb64",
   "metadata": {
    "scrolled": true
   },
   "outputs": [
    {
     "data": {
      "text/plain": [
       "'Nodes: 10604   Ways: 14686  Relations: 265'"
      ]
     },
     "execution_count": 16,
     "metadata": {},
     "output_type": "execute_result"
    }
   ],
   "source": [
    "## Counting objects (nodes, ways and relations) in file with the tag \"amenity = school\"\n",
    "\n",
    "from collections import Counter\n",
    "\n",
    "cnt = Counter()\n",
    "\n",
    "for obj in fp:\n",
    "    if obj.tags['amenity'] == 'school':\n",
    "        cnt.update([obj.type_str()])\n",
    "\n",
    "f\"Nodes: {cnt['n']}   Ways: {cnt['w']}  Relations: {cnt['r']}\""
   ]
  },
  {
   "cell_type": "code",
   "execution_count": 17,
   "id": "2cb89922",
   "metadata": {},
   "outputs": [],
   "source": [
    "## Creating a new .osm.pbf file of all objects with the tag \"amenity = school\"\n",
    "\n",
    "with osmium.BackReferenceWriter(\"Central America/schools_full.osm.pbf\", ref_src='Central America/central-america-latest.osm.pbf', overwrite=True) as writer:\n",
    "    for obj in fp:\n",
    "         if obj.tags['amenity'] == 'school':\n",
    "             writer.add(obj)"
   ]
  },
  {
   "cell_type": "markdown",
   "id": "44e3d9b1",
   "metadata": {},
   "source": [
    "### Converting .osm.pbf to GeoJSON"
   ]
  },
  {
   "cell_type": "code",
   "execution_count": null,
   "id": "0b451d29",
   "metadata": {},
   "outputs": [],
   "source": [
    "## Defining input file path (the schools .osm.pbf file we just created)\n",
    "\n",
    "input_pbf = \"Central America/schools_full.osm.pbf\""
   ]
  },
  {
   "cell_type": "code",
   "execution_count": null,
   "id": "000404b8",
   "metadata": {
    "scrolled": true
   },
   "outputs": [
    {
     "name": "stdout",
     "output_type": "stream",
     "text": [
      "INFO: Open of `Central America/schools_full.osm.pbf'\n",
      "      using driver `OSM' successful.\n",
      "1: points (Point)\n",
      "2: lines (Line String)\n",
      "3: multilinestrings (Multi Line String)\n",
      "4: multipolygons (Multi Polygon)\n",
      "5: other_relations (Geometry Collection)\n"
     ]
    },
    {
     "data": {
      "text/plain": [
       "CompletedProcess(args=['ogrinfo', 'Central America/schools_full.osm.pbf'], returncode=0)"
      ]
     },
     "execution_count": 19,
     "metadata": {},
     "output_type": "execute_result"
    }
   ],
   "source": [
    "## Checking object types within the .osm.pbf\n",
    "\n",
    "subprocess.run([\"ogrinfo\", input_pbf], check=True)"
   ]
  },
  {
   "cell_type": "code",
   "execution_count": 20,
   "id": "d17aacf8",
   "metadata": {},
   "outputs": [
    {
     "name": "stdout",
     "output_type": "stream",
     "text": [
      "GeoJSON with nodes saved to Central America/schools_full_nodes.geojson\n"
     ]
    }
   ],
   "source": [
    "## Converting all school nodes to a GeoJSON\n",
    "\n",
    "output_geojson = \"Central America/schools_full_nodes.geojson\"\n",
    "\n",
    "subprocess.run([\"osmium\", \"export\", \"--geometry-types=point\", \"-o\", output_geojson, input_pbf], check=True)\n",
    "\n",
    "print(f\"GeoJSON with nodes saved to {output_geojson}\")"
   ]
  },
  {
   "cell_type": "code",
   "execution_count": 21,
   "id": "fc248b00",
   "metadata": {
    "scrolled": true
   },
   "outputs": [
    {
     "name": "stdout",
     "output_type": "stream",
     "text": [
      "0...10...20...30...40...50...60...70...80...90...100 - done.\n"
     ]
    },
    {
     "data": {
      "text/plain": [
       "CompletedProcess(args=['ogr2ogr', '-f', 'GeoJSON', 'Central America/schools_full_polygons.geojson', 'Central America/schools_full.osm.pbf', 'multipolygons'], returncode=0)"
      ]
     },
     "execution_count": 21,
     "metadata": {},
     "output_type": "execute_result"
    }
   ],
   "source": [
    "## Converting all school polygons to a GeoJSON (in rare cases schools are recorded as polygons, not points)\n",
    "\n",
    "output_geojson = \"Central America/schools_full_polygons.geojson\"\n",
    "\n",
    "subprocess.run([\n",
    "    \"ogr2ogr\",\n",
    "    \"-f\", \"GeoJSON\",\n",
    "    output_geojson,\n",
    "    input_pbf,\n",
    "    \"multipolygons\", \n",
    "], check=True)"
   ]
  },
  {
   "cell_type": "code",
   "execution_count": null,
   "id": "f0c98834",
   "metadata": {},
   "outputs": [],
   "source": []
  }
 ],
 "metadata": {
  "kernelspec": {
   "display_name": "Python 3 (ipykernel)",
   "language": "python",
   "name": "python3"
  },
  "language_info": {
   "codemirror_mode": {
    "name": "ipython",
    "version": 3
   },
   "file_extension": ".py",
   "mimetype": "text/x-python",
   "name": "python",
   "nbconvert_exporter": "python",
   "pygments_lexer": "ipython3",
   "version": "3.11.7"
  }
 },
 "nbformat": 4,
 "nbformat_minor": 5
}
